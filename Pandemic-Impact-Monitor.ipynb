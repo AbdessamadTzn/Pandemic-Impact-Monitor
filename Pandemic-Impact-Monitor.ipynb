{
 "cells": [
  {
   "cell_type": "markdown",
   "id": "528e6ad2-15a6-495a-8153-2226799ede63",
   "metadata": {},
   "source": [
    "# **Pandemic Impact Monitor (After Covid 19)**\n",
    "[Data Set Documentataion](https://www.kaggle.com/datasets/keneticenergy/economic-data-life-after-covid/data)"
   ]
  },
  {
   "cell_type": "code",
   "execution_count": 6,
   "id": "b7dba5ff-bbd2-4624-a97d-f7880d567576",
   "metadata": {},
   "outputs": [],
   "source": [
    "import pandas as pd\n",
    "import numpy as np\n",
    "# set seed for reproducibility\n",
    "np.random.seed(0)"
   ]
  },
  {
   "cell_type": "code",
   "execution_count": 7,
   "id": "9849c532-cab3-4c18-80e7-7fcf2192e214",
   "metadata": {},
   "outputs": [
    {
     "data": {
      "text/html": [
       "<div>\n",
       "<style scoped>\n",
       "    .dataframe tbody tr th:only-of-type {\n",
       "        vertical-align: middle;\n",
       "    }\n",
       "\n",
       "    .dataframe tbody tr th {\n",
       "        vertical-align: top;\n",
       "    }\n",
       "\n",
       "    .dataframe thead th {\n",
       "        text-align: right;\n",
       "    }\n",
       "</style>\n",
       "<table border=\"1\" class=\"dataframe\">\n",
       "  <thead>\n",
       "    <tr style=\"text-align: right;\">\n",
       "      <th></th>\n",
       "      <th>country</th>\n",
       "      <th>date</th>\n",
       "      <th>manufacturing pmi</th>\n",
       "      <th>services pmi</th>\n",
       "      <th>consumer confidence</th>\n",
       "      <th>interest rates</th>\n",
       "      <th>cpi yoy</th>\n",
       "      <th>core cpi</th>\n",
       "      <th>unemployment rate</th>\n",
       "      <th>gdp yoy</th>\n",
       "      <th>ticker</th>\n",
       "      <th>open</th>\n",
       "      <th>high</th>\n",
       "      <th>low</th>\n",
       "      <th>close</th>\n",
       "    </tr>\n",
       "  </thead>\n",
       "  <tbody>\n",
       "    <tr>\n",
       "      <th>0</th>\n",
       "      <td>australia</td>\n",
       "      <td>2020-01-01</td>\n",
       "      <td>49.6</td>\n",
       "      <td>50.6</td>\n",
       "      <td>93.4</td>\n",
       "      <td>0.75%</td>\n",
       "      <td>2.20%</td>\n",
       "      <td>1.70%</td>\n",
       "      <td>5.20%</td>\n",
       "      <td>1.20%</td>\n",
       "      <td>audusd</td>\n",
       "      <td>0.7021</td>\n",
       "      <td>0.7031</td>\n",
       "      <td>0.6682</td>\n",
       "      <td>0.6691</td>\n",
       "    </tr>\n",
       "    <tr>\n",
       "      <th>1</th>\n",
       "      <td>australia</td>\n",
       "      <td>2020-02-01</td>\n",
       "      <td>50.2</td>\n",
       "      <td>49.0</td>\n",
       "      <td>95.5</td>\n",
       "      <td>0.75%</td>\n",
       "      <td>2.20%</td>\n",
       "      <td>1.70%</td>\n",
       "      <td>5.10%</td>\n",
       "      <td>1.20%</td>\n",
       "      <td>audusd</td>\n",
       "      <td>0.6690</td>\n",
       "      <td>0.6776</td>\n",
       "      <td>0.6434</td>\n",
       "      <td>0.6509</td>\n",
       "    </tr>\n",
       "    <tr>\n",
       "      <th>2</th>\n",
       "      <td>australia</td>\n",
       "      <td>2020-03-01</td>\n",
       "      <td>49.7</td>\n",
       "      <td>38.5</td>\n",
       "      <td>91.9</td>\n",
       "      <td>0.50%</td>\n",
       "      <td>2.20%</td>\n",
       "      <td>1.70%</td>\n",
       "      <td>5.20%</td>\n",
       "      <td>1.20%</td>\n",
       "      <td>audusd</td>\n",
       "      <td>0.6488</td>\n",
       "      <td>0.6686</td>\n",
       "      <td>0.5507</td>\n",
       "      <td>0.6135</td>\n",
       "    </tr>\n",
       "  </tbody>\n",
       "</table>\n",
       "</div>"
      ],
      "text/plain": [
       "     country        date  manufacturing pmi  services pmi  \\\n",
       "0  australia  2020-01-01               49.6          50.6   \n",
       "1  australia  2020-02-01               50.2          49.0   \n",
       "2  australia  2020-03-01               49.7          38.5   \n",
       "\n",
       "   consumer confidence interest rates cpi yoy core cpi unemployment rate  \\\n",
       "0                 93.4          0.75%   2.20%    1.70%             5.20%   \n",
       "1                 95.5          0.75%   2.20%    1.70%             5.10%   \n",
       "2                 91.9          0.50%   2.20%    1.70%             5.20%   \n",
       "\n",
       "  gdp yoy  ticker    open    high     low   close  \n",
       "0   1.20%  audusd  0.7021  0.7031  0.6682  0.6691  \n",
       "1   1.20%  audusd  0.6690  0.6776  0.6434  0.6509  \n",
       "2   1.20%  audusd  0.6488  0.6686  0.5507  0.6135  "
      ]
     },
     "execution_count": 7,
     "metadata": {},
     "output_type": "execute_result"
    }
   ],
   "source": [
    "# Read Data set\n",
    "df = pd.read_csv(\"economic data.csv\")\n",
    "# Check\n",
    "df.head(3)"
   ]
  },
  {
   "cell_type": "markdown",
   "id": "068cd308-dc87-4b9a-b8f9-8c4af2c3b0c9",
   "metadata": {},
   "source": [
    "## **Data Cleaning && EDA:**"
   ]
  },
  {
   "cell_type": "code",
   "execution_count": 9,
   "id": "f1a18660-2bb3-4e36-b8ee-81dc77b3d723",
   "metadata": {},
   "outputs": [
    {
     "name": "stdout",
     "output_type": "stream",
     "text": [
      "<class 'pandas.core.frame.DataFrame'>\n",
      "RangeIndex: 432 entries, 0 to 431\n",
      "Data columns (total 15 columns):\n",
      " #   Column               Non-Null Count  Dtype  \n",
      "---  ------               --------------  -----  \n",
      " 0   country              432 non-null    object \n",
      " 1   date                 432 non-null    object \n",
      " 2   manufacturing pmi    432 non-null    float64\n",
      " 3   services pmi         432 non-null    float64\n",
      " 4   consumer confidence  432 non-null    float64\n",
      " 5   interest rates       432 non-null    object \n",
      " 6   cpi yoy              432 non-null    object \n",
      " 7   core cpi             432 non-null    object \n",
      " 8   unemployment rate    432 non-null    object \n",
      " 9   gdp yoy              432 non-null    object \n",
      " 10  ticker               432 non-null    object \n",
      " 11  open                 432 non-null    float64\n",
      " 12  high                 432 non-null    float64\n",
      " 13  low                  432 non-null    float64\n",
      " 14  close                432 non-null    float64\n",
      "dtypes: float64(7), object(8)\n",
      "memory usage: 50.8+ KB\n"
     ]
    }
   ],
   "source": [
    "df.info()"
   ]
  },
  {
   "cell_type": "code",
   "execution_count": 12,
   "id": "3ce6ff32-c934-4322-b74e-447d38e0fa6d",
   "metadata": {},
   "outputs": [
    {
     "data": {
      "text/plain": [
       "country                0\n",
       "date                   0\n",
       "manufacturing pmi      0\n",
       "services pmi           0\n",
       "consumer confidence    0\n",
       "interest rates         0\n",
       "cpi yoy                0\n",
       "core cpi               0\n",
       "unemployment rate      0\n",
       "gdp yoy                0\n",
       "ticker                 0\n",
       "open                   0\n",
       "high                   0\n",
       "low                    0\n",
       "close                  0\n",
       "dtype: int64"
      ]
     },
     "execution_count": 12,
     "metadata": {},
     "output_type": "execute_result"
    }
   ],
   "source": [
    "# Check missing values\n",
    "df.isnull().sum()"
   ]
  },
  {
   "cell_type": "code",
   "execution_count": 13,
   "id": "092fb1ff-def6-40c8-9dc2-55868ff6b727",
   "metadata": {},
   "outputs": [
    {
     "data": {
      "text/plain": [
       "0"
      ]
     },
     "execution_count": 13,
     "metadata": {},
     "output_type": "execute_result"
    }
   ],
   "source": [
    "# Check for duplicates\n",
    "df.duplicated().sum()"
   ]
  },
  {
   "cell_type": "code",
   "execution_count": 16,
   "id": "a190867a-3f1d-4fe1-a97e-65acde8ad235",
   "metadata": {},
   "outputs": [
    {
     "data": {
      "text/html": [
       "<div>\n",
       "<style scoped>\n",
       "    .dataframe tbody tr th:only-of-type {\n",
       "        vertical-align: middle;\n",
       "    }\n",
       "\n",
       "    .dataframe tbody tr th {\n",
       "        vertical-align: top;\n",
       "    }\n",
       "\n",
       "    .dataframe thead th {\n",
       "        text-align: right;\n",
       "    }\n",
       "</style>\n",
       "<table border=\"1\" class=\"dataframe\">\n",
       "  <thead>\n",
       "    <tr style=\"text-align: right;\">\n",
       "      <th></th>\n",
       "      <th>country</th>\n",
       "      <th>date</th>\n",
       "      <th>manufacturing pmi</th>\n",
       "      <th>services pmi</th>\n",
       "      <th>consumer confidence</th>\n",
       "      <th>interest rates</th>\n",
       "      <th>cpi yoy</th>\n",
       "      <th>core cpi</th>\n",
       "      <th>unemployment rate</th>\n",
       "      <th>gdp yoy</th>\n",
       "      <th>ticker</th>\n",
       "      <th>open</th>\n",
       "      <th>high</th>\n",
       "      <th>low</th>\n",
       "      <th>close</th>\n",
       "    </tr>\n",
       "  </thead>\n",
       "  <tbody>\n",
       "    <tr>\n",
       "      <th>0</th>\n",
       "      <td>australia</td>\n",
       "      <td>2020-01-01</td>\n",
       "      <td>49.6</td>\n",
       "      <td>50.6</td>\n",
       "      <td>93.4</td>\n",
       "      <td>0.75%</td>\n",
       "      <td>2.20%</td>\n",
       "      <td>1.70%</td>\n",
       "      <td>5.20%</td>\n",
       "      <td>1.20%</td>\n",
       "      <td>audusd</td>\n",
       "      <td>0.7021</td>\n",
       "      <td>0.7031</td>\n",
       "      <td>0.6682</td>\n",
       "      <td>0.6691</td>\n",
       "    </tr>\n",
       "  </tbody>\n",
       "</table>\n",
       "</div>"
      ],
      "text/plain": [
       "     country        date  manufacturing pmi  services pmi  \\\n",
       "0  australia  2020-01-01               49.6          50.6   \n",
       "\n",
       "   consumer confidence interest rates cpi yoy core cpi unemployment rate  \\\n",
       "0                 93.4          0.75%   2.20%    1.70%             5.20%   \n",
       "\n",
       "  gdp yoy  ticker    open    high     low   close  \n",
       "0   1.20%  audusd  0.7021  0.7031  0.6682  0.6691  "
      ]
     },
     "execution_count": 16,
     "metadata": {},
     "output_type": "execute_result"
    }
   ],
   "source": [
    "df.head(1)"
   ]
  },
  {
   "cell_type": "code",
   "execution_count": 18,
   "id": "da1dd7b9-634c-44c1-8cd6-bbe49ecd29f9",
   "metadata": {},
   "outputs": [
    {
     "data": {
      "text/html": [
       "<div>\n",
       "<style scoped>\n",
       "    .dataframe tbody tr th:only-of-type {\n",
       "        vertical-align: middle;\n",
       "    }\n",
       "\n",
       "    .dataframe tbody tr th {\n",
       "        vertical-align: top;\n",
       "    }\n",
       "\n",
       "    .dataframe thead th {\n",
       "        text-align: right;\n",
       "    }\n",
       "</style>\n",
       "<table border=\"1\" class=\"dataframe\">\n",
       "  <thead>\n",
       "    <tr style=\"text-align: right;\">\n",
       "      <th></th>\n",
       "      <th>Country</th>\n",
       "      <th>Date</th>\n",
       "      <th>Manufacturing PMI</th>\n",
       "      <th>Services PMI</th>\n",
       "      <th>Consumer Confidence</th>\n",
       "      <th>Interest Rates</th>\n",
       "      <th>CPI YOY</th>\n",
       "      <th>Core CPI</th>\n",
       "      <th>Unemployment Rate</th>\n",
       "      <th>GDP YOY</th>\n",
       "      <th>Ticker</th>\n",
       "      <th>Open</th>\n",
       "      <th>High</th>\n",
       "      <th>Low</th>\n",
       "      <th>Close</th>\n",
       "    </tr>\n",
       "  </thead>\n",
       "  <tbody>\n",
       "    <tr>\n",
       "      <th>0</th>\n",
       "      <td>australia</td>\n",
       "      <td>2020-01-01</td>\n",
       "      <td>49.6</td>\n",
       "      <td>50.6</td>\n",
       "      <td>93.4</td>\n",
       "      <td>0.75%</td>\n",
       "      <td>2.20%</td>\n",
       "      <td>1.70%</td>\n",
       "      <td>5.20%</td>\n",
       "      <td>1.20%</td>\n",
       "      <td>audusd</td>\n",
       "      <td>0.7021</td>\n",
       "      <td>0.7031</td>\n",
       "      <td>0.6682</td>\n",
       "      <td>0.6691</td>\n",
       "    </tr>\n",
       "    <tr>\n",
       "      <th>1</th>\n",
       "      <td>australia</td>\n",
       "      <td>2020-02-01</td>\n",
       "      <td>50.2</td>\n",
       "      <td>49.0</td>\n",
       "      <td>95.5</td>\n",
       "      <td>0.75%</td>\n",
       "      <td>2.20%</td>\n",
       "      <td>1.70%</td>\n",
       "      <td>5.10%</td>\n",
       "      <td>1.20%</td>\n",
       "      <td>audusd</td>\n",
       "      <td>0.6690</td>\n",
       "      <td>0.6776</td>\n",
       "      <td>0.6434</td>\n",
       "      <td>0.6509</td>\n",
       "    </tr>\n",
       "    <tr>\n",
       "      <th>2</th>\n",
       "      <td>australia</td>\n",
       "      <td>2020-03-01</td>\n",
       "      <td>49.7</td>\n",
       "      <td>38.5</td>\n",
       "      <td>91.9</td>\n",
       "      <td>0.50%</td>\n",
       "      <td>2.20%</td>\n",
       "      <td>1.70%</td>\n",
       "      <td>5.20%</td>\n",
       "      <td>1.20%</td>\n",
       "      <td>audusd</td>\n",
       "      <td>0.6488</td>\n",
       "      <td>0.6686</td>\n",
       "      <td>0.5507</td>\n",
       "      <td>0.6135</td>\n",
       "    </tr>\n",
       "    <tr>\n",
       "      <th>3</th>\n",
       "      <td>australia</td>\n",
       "      <td>2020-04-01</td>\n",
       "      <td>44.1</td>\n",
       "      <td>19.5</td>\n",
       "      <td>75.6</td>\n",
       "      <td>0.25%</td>\n",
       "      <td>-0.30%</td>\n",
       "      <td>1.20%</td>\n",
       "      <td>6.30%</td>\n",
       "      <td>-6.10%</td>\n",
       "      <td>audusd</td>\n",
       "      <td>0.6133</td>\n",
       "      <td>0.6571</td>\n",
       "      <td>0.5979</td>\n",
       "      <td>0.6510</td>\n",
       "    </tr>\n",
       "    <tr>\n",
       "      <th>4</th>\n",
       "      <td>australia</td>\n",
       "      <td>2020-05-01</td>\n",
       "      <td>44.0</td>\n",
       "      <td>26.9</td>\n",
       "      <td>88.1</td>\n",
       "      <td>0.25%</td>\n",
       "      <td>-0.30%</td>\n",
       "      <td>1.20%</td>\n",
       "      <td>7.00%</td>\n",
       "      <td>-6.10%</td>\n",
       "      <td>audusd</td>\n",
       "      <td>0.6511</td>\n",
       "      <td>0.6684</td>\n",
       "      <td>0.6371</td>\n",
       "      <td>0.6666</td>\n",
       "    </tr>\n",
       "  </tbody>\n",
       "</table>\n",
       "</div>"
      ],
      "text/plain": [
       "     Country        Date  Manufacturing PMI  Services PMI  \\\n",
       "0  australia  2020-01-01               49.6          50.6   \n",
       "1  australia  2020-02-01               50.2          49.0   \n",
       "2  australia  2020-03-01               49.7          38.5   \n",
       "3  australia  2020-04-01               44.1          19.5   \n",
       "4  australia  2020-05-01               44.0          26.9   \n",
       "\n",
       "   Consumer Confidence Interest Rates CPI YOY Core CPI Unemployment Rate  \\\n",
       "0                 93.4          0.75%   2.20%    1.70%             5.20%   \n",
       "1                 95.5          0.75%   2.20%    1.70%             5.10%   \n",
       "2                 91.9          0.50%   2.20%    1.70%             5.20%   \n",
       "3                 75.6          0.25%  -0.30%    1.20%             6.30%   \n",
       "4                 88.1          0.25%  -0.30%    1.20%             7.00%   \n",
       "\n",
       "  GDP YOY  Ticker    Open    High     Low   Close  \n",
       "0   1.20%  audusd  0.7021  0.7031  0.6682  0.6691  \n",
       "1   1.20%  audusd  0.6690  0.6776  0.6434  0.6509  \n",
       "2   1.20%  audusd  0.6488  0.6686  0.5507  0.6135  \n",
       "3  -6.10%  audusd  0.6133  0.6571  0.5979  0.6510  \n",
       "4  -6.10%  audusd  0.6511  0.6684  0.6371  0.6666  "
      ]
     },
     "execution_count": 18,
     "metadata": {},
     "output_type": "execute_result"
    }
   ],
   "source": [
    "# Rename Columns\n",
    "df.rename(columns={\n",
    "    'country':'Country',\n",
    "    'date':'Date',\n",
    "    'manufacturing pmi':'Manufacturing PMI',\n",
    "    'services pmi':'Services PMI',\n",
    "    'consumer confidence':'Consumer Confidence',\n",
    "    'interest rates':'Interest Rates',\n",
    "    'cpi yoy':'CPI YOY',\n",
    "    'core cpi':'Core CPI',\n",
    "    'unemployment rate':'Unemployment Rate',\n",
    "    'gdp yoy':'GDP YOY',\n",
    "    'ticker':'Ticker',\n",
    "    'open':'Open',\n",
    "    'high':'High',\n",
    "    'low':'Low',\n",
    "    'close':'Close'\n",
    "},\n",
    "         inplace=True)\n",
    "# Check\n",
    "df.head()"
   ]
  },
  {
   "cell_type": "code",
   "execution_count": 25,
   "id": "fc1b632c-6115-4b7d-803d-69f6cc4bcd23",
   "metadata": {},
   "outputs": [
    {
     "name": "stdout",
     "output_type": "stream",
     "text": [
      "<class 'pandas.core.frame.DataFrame'>\n",
      "RangeIndex: 432 entries, 0 to 431\n",
      "Data columns (total 15 columns):\n",
      " #   Column               Non-Null Count  Dtype         \n",
      "---  ------               --------------  -----         \n",
      " 0   Country              432 non-null    object        \n",
      " 1   Date                 432 non-null    datetime64[ns]\n",
      " 2   Manufacturing PMI    432 non-null    float64       \n",
      " 3   Services PMI         432 non-null    float64       \n",
      " 4   Consumer Confidence  432 non-null    float64       \n",
      " 5   Interest Rates       432 non-null    object        \n",
      " 6   CPI YOY              432 non-null    object        \n",
      " 7   Core CPI             432 non-null    object        \n",
      " 8   Unemployment Rate    432 non-null    object        \n",
      " 9   GDP YOY              432 non-null    object        \n",
      " 10  Ticker               432 non-null    object        \n",
      " 11  Open                 432 non-null    float64       \n",
      " 12  High                 432 non-null    float64       \n",
      " 13  Low                  432 non-null    float64       \n",
      " 14  Close                432 non-null    float64       \n",
      "dtypes: datetime64[ns](1), float64(7), object(7)\n",
      "memory usage: 50.8+ KB\n"
     ]
    }
   ],
   "source": [
    "# Correct Date's Data Type\n",
    "df['Date'] = pd.to_datetime(df['Date'])\n",
    "# Check\n",
    "df.info()"
   ]
  },
  {
   "cell_type": "markdown",
   "id": "3089ec3d-7ae1-440a-a001-33b259eb8621",
   "metadata": {},
   "source": [
    "***So here, there is some columns that seems unecessary, but as I'm not yet developing the Dash App, I can't decide which columns I'll not gonna need, so I'll just keep all columns...***"
   ]
  },
  {
   "cell_type": "code",
   "execution_count": 28,
   "id": "feca882d-0ef0-4967-861b-af9446bd470f",
   "metadata": {},
   "outputs": [
    {
     "data": {
      "text/html": [
       "<div>\n",
       "<style scoped>\n",
       "    .dataframe tbody tr th:only-of-type {\n",
       "        vertical-align: middle;\n",
       "    }\n",
       "\n",
       "    .dataframe tbody tr th {\n",
       "        vertical-align: top;\n",
       "    }\n",
       "\n",
       "    .dataframe thead th {\n",
       "        text-align: right;\n",
       "    }\n",
       "</style>\n",
       "<table border=\"1\" class=\"dataframe\">\n",
       "  <thead>\n",
       "    <tr style=\"text-align: right;\">\n",
       "      <th></th>\n",
       "      <th>Date</th>\n",
       "      <th>Manufacturing PMI</th>\n",
       "      <th>Services PMI</th>\n",
       "      <th>Consumer Confidence</th>\n",
       "      <th>Open</th>\n",
       "      <th>High</th>\n",
       "      <th>Low</th>\n",
       "      <th>Close</th>\n",
       "    </tr>\n",
       "  </thead>\n",
       "  <tbody>\n",
       "    <tr>\n",
       "      <th>count</th>\n",
       "      <td>432</td>\n",
       "      <td>432.000000</td>\n",
       "      <td>432.000000</td>\n",
       "      <td>432.000000</td>\n",
       "      <td>432.000000</td>\n",
       "      <td>432.000000</td>\n",
       "      <td>432.000000</td>\n",
       "      <td>432.000000</td>\n",
       "    </tr>\n",
       "    <tr>\n",
       "      <th>mean</th>\n",
       "      <td>2021-12-15 23:00:00</td>\n",
       "      <td>51.878935</td>\n",
       "      <td>51.111968</td>\n",
       "      <td>42.679051</td>\n",
       "      <td>25.934223</td>\n",
       "      <td>26.467713</td>\n",
       "      <td>25.493275</td>\n",
       "      <td>26.020603</td>\n",
       "    </tr>\n",
       "    <tr>\n",
       "      <th>min</th>\n",
       "      <td>2020-01-01 00:00:00</td>\n",
       "      <td>26.000000</td>\n",
       "      <td>12.000000</td>\n",
       "      <td>-52.500000</td>\n",
       "      <td>0.559300</td>\n",
       "      <td>0.587400</td>\n",
       "      <td>0.547000</td>\n",
       "      <td>0.559400</td>\n",
       "    </tr>\n",
       "    <tr>\n",
       "      <th>25%</th>\n",
       "      <td>2020-12-24 06:00:00</td>\n",
       "      <td>48.275000</td>\n",
       "      <td>48.600000</td>\n",
       "      <td>-10.525000</td>\n",
       "      <td>0.910300</td>\n",
       "      <td>0.921625</td>\n",
       "      <td>0.891900</td>\n",
       "      <td>0.908800</td>\n",
       "    </tr>\n",
       "    <tr>\n",
       "      <th>50%</th>\n",
       "      <td>2021-12-16 12:00:00</td>\n",
       "      <td>51.100000</td>\n",
       "      <td>51.850000</td>\n",
       "      <td>49.290000</td>\n",
       "      <td>1.257650</td>\n",
       "      <td>1.281150</td>\n",
       "      <td>1.230350</td>\n",
       "      <td>1.257150</td>\n",
       "    </tr>\n",
       "    <tr>\n",
       "      <th>75%</th>\n",
       "      <td>2022-12-08 18:00:00</td>\n",
       "      <td>55.925000</td>\n",
       "      <td>55.200000</td>\n",
       "      <td>86.850000</td>\n",
       "      <td>7.063525</td>\n",
       "      <td>7.131225</td>\n",
       "      <td>6.979650</td>\n",
       "      <td>7.082575</td>\n",
       "    </tr>\n",
       "    <tr>\n",
       "      <th>max</th>\n",
       "      <td>2023-12-01 00:00:00</td>\n",
       "      <td>70.000000</td>\n",
       "      <td>67.600000</td>\n",
       "      <td>127.000000</td>\n",
       "      <td>151.710000</td>\n",
       "      <td>151.960000</td>\n",
       "      <td>147.380000</td>\n",
       "      <td>151.670000</td>\n",
       "    </tr>\n",
       "    <tr>\n",
       "      <th>std</th>\n",
       "      <td>NaN</td>\n",
       "      <td>6.121829</td>\n",
       "      <td>7.205442</td>\n",
       "      <td>51.862085</td>\n",
       "      <td>45.859841</td>\n",
       "      <td>46.860450</td>\n",
       "      <td>45.028341</td>\n",
       "      <td>46.039390</td>\n",
       "    </tr>\n",
       "  </tbody>\n",
       "</table>\n",
       "</div>"
      ],
      "text/plain": [
       "                      Date  Manufacturing PMI  Services PMI  \\\n",
       "count                  432         432.000000    432.000000   \n",
       "mean   2021-12-15 23:00:00          51.878935     51.111968   \n",
       "min    2020-01-01 00:00:00          26.000000     12.000000   \n",
       "25%    2020-12-24 06:00:00          48.275000     48.600000   \n",
       "50%    2021-12-16 12:00:00          51.100000     51.850000   \n",
       "75%    2022-12-08 18:00:00          55.925000     55.200000   \n",
       "max    2023-12-01 00:00:00          70.000000     67.600000   \n",
       "std                    NaN           6.121829      7.205442   \n",
       "\n",
       "       Consumer Confidence        Open        High         Low       Close  \n",
       "count           432.000000  432.000000  432.000000  432.000000  432.000000  \n",
       "mean             42.679051   25.934223   26.467713   25.493275   26.020603  \n",
       "min             -52.500000    0.559300    0.587400    0.547000    0.559400  \n",
       "25%             -10.525000    0.910300    0.921625    0.891900    0.908800  \n",
       "50%              49.290000    1.257650    1.281150    1.230350    1.257150  \n",
       "75%              86.850000    7.063525    7.131225    6.979650    7.082575  \n",
       "max             127.000000  151.710000  151.960000  147.380000  151.670000  \n",
       "std              51.862085   45.859841   46.860450   45.028341   46.039390  "
      ]
     },
     "execution_count": 28,
     "metadata": {},
     "output_type": "execute_result"
    }
   ],
   "source": [
    "# Detect and Remove outliers\n",
    "df.describe()"
   ]
  },
  {
   "cell_type": "code",
   "execution_count": 30,
   "id": "85a51be4-cae8-4f38-80cf-0ec1379a2cae",
   "metadata": {},
   "outputs": [
    {
     "data": {
      "text/plain": [
       "<Axes: >"
      ]
     },
     "execution_count": 30,
     "metadata": {},
     "output_type": "execute_result"
    },
    {
     "data": {
      "image/png": "[encoded data removed]",
      "text/plain": [
       "<Figure size 640x480 with 1 Axes>"
      ]
     },
     "metadata": {},
     "output_type": "display_data"
    }
   ],
   "source": [
    "import seaborn as sns\n",
    "sns.boxplot(df['Manufacturing PMI'])"
   ]
  },
  {
   "cell_type": "code",
   "execution_count": 31,
   "id": "f123c6b8-0064-4695-840e-218817b5ee6c",
   "metadata": {},
   "outputs": [
    {
     "data": {
      "text/plain": [
       "<Axes: >"
      ]
     },
     "execution_count": 31,
     "metadata": {},
     "output_type": "execute_result"
    },
    {
     "data": {
      "image/png": "[encoded data removed]",
      "text/plain": [
       "<Figure size 640x480 with 1 Axes>"
      ]
     },
     "metadata": {},
     "output_type": "display_data"
    }
   ],
   "source": [
    "sns.boxplot(df['Services PMI'])"
   ]
  },
  {
   "cell_type": "code",
   "execution_count": 32,
   "id": "2fa1dc65-3521-4e88-93c8-d6997c5485b4",
   "metadata": {},
   "outputs": [
    {
     "data": {
      "text/plain": [
       "<Axes: >"
      ]
     },
     "execution_count": 32,
     "metadata": {},
     "output_type": "execute_result"
    },
    {
     "data": {
      "image/png": "[encoded data removed]",
      "text/plain": [
       "<Figure size 640x480 with 1 Axes>"
      ]
     },
     "metadata": {},
     "output_type": "display_data"
    }
   ],
   "source": [
    "sns.boxplot(df['Consumer Confidence'])"
   ]
  },
  {
   "cell_type": "markdown",
   "id": "f3012f86-237e-4946-a212-ad05d1670096",
   "metadata": {},
   "source": [
    "**Remove outliers from Manufacturing PMI && Services PMI using Z-score:**"
   ]
  },
  {
   "cell_type": "code",
   "execution_count": 40,
   "id": "98fad91d-1a05-4297-9665-41727227ae89",
   "metadata": {},
   "outputs": [
    {
     "name": "stdout",
     "output_type": "stream",
     "text": [
      "Outliers:\n",
      "         Country       Date  Manufacturing PMI  Services PMI  \\\n",
      "303  switzerland 2021-04-01               69.5         57.88   \n",
      "306  switzerland 2021-07-01               70.0         60.86   \n",
      "\n",
      "     Consumer Confidence Interest Rates CPI YOY Core CPI Unemployment Rate  \\\n",
      "303                 -6.4         -0.75%   0.30%    0.00%             3.30%   \n",
      "306                  7.6         -0.75%   0.70%    0.20%             2.80%   \n",
      "\n",
      "    GDP YOY  Ticker    Open    High     Low   Close   z_score  \n",
      "303  10.60%  usdchf  0.9435  0.9474  0.9079  0.9133  3.001426  \n",
      "306   5.50%  usdchf  0.9249  0.9276  0.9039  0.9054  3.087534  \n"
     ]
    }
   ],
   "source": [
    "# Manufacturing PMI\n",
    "df['z_score'] = (df['Manufacturing PMI'] - df['Manufacturing PMI'].mean()) / df['Manufacturing PMI'].std()\n",
    "\n",
    "# Find outliers (threshold: Z-score > 3 or Z-score < -3)\n",
    "outliers = df[(df['z_score'] > 3) | (df['z_score'] < -3)]\n",
    "print(\"Outliers:\")\n",
    "print(outliers) #uncomment to see"
   ]
  },
  {
   "cell_type": "code",
   "execution_count": 41,
   "id": "6eb8b1f3-3878-49a8-b190-a7af891aabf2",
   "metadata": {},
   "outputs": [
    {
     "name": "stdout",
     "output_type": "stream",
     "text": [
      "Original DataFrame's shape:\n",
      "(428, 16)\n",
      "\n",
      "DataFrame after removing outliers shape:\n",
      "(426, 16)\n"
     ]
    }
   ],
   "source": [
    "cleaned_outliers_df = df.drop(outliers.index)\n",
    "print(\"Original DataFrame's shape:\")\n",
    "print(df.shape)\n",
    "print(\"\\nDataFrame after removing outliers shape:\")\n",
    "print(cleaned_outliers_df.shape)"
   ]
  },
  {
   "cell_type": "code",
   "execution_count": 45,
   "id": "4303bc70-ade8-4e79-90ca-841b9e5403b5",
   "metadata": {},
   "outputs": [
    {
     "name": "stdout",
     "output_type": "stream",
     "text": [
      "Outliers:\n",
      "            Country       Date  Manufacturing PMI  Services PMI  \\\n",
      "3         australia 2020-04-01               44.1         19.50   \n",
      "4         australia 2020-05-01               44.0         26.90   \n",
      "52           canada 2020-05-01               40.6         30.00   \n",
      "97            china 2020-02-01               35.7         29.60   \n",
      "146          europe 2020-03-01               44.5         26.40   \n",
      "148          europe 2020-05-01               39.4         30.50   \n",
      "195           japan 2020-04-01               41.9         21.50   \n",
      "196           japan 2020-05-01               38.4         26.50   \n",
      "290     switzerland 2020-03-01               43.5         28.14   \n",
      "291     switzerland 2020-04-01               41.2         21.94   \n",
      "340  united kingdom 2020-05-01               40.7         29.00   \n",
      "\n",
      "     Consumer Confidence Interest Rates CPI YOY Core CPI Unemployment Rate  \\\n",
      "3                  75.60          0.25%  -0.30%    1.20%             6.30%   \n",
      "4                  88.10          0.25%  -0.30%    1.20%             7.00%   \n",
      "52                 38.45          0.25%  -0.40%    0.70%            13.70%   \n",
      "97                118.90          4.15%   5.20%    1.00%             6.20%   \n",
      "146               -12.30          0.00%   0.70%    1.00%             7.20%   \n",
      "148               -20.50          0.00%   0.10%    0.90%             7.60%   \n",
      "195                21.60         -0.10%   0.10%   -0.20%             2.60%   \n",
      "196                24.00         -0.10%   0.10%   -0.20%             2.80%   \n",
      "290                -8.80         -0.75%  -0.50%   -0.10%             2.90%   \n",
      "291               -39.00         -0.75%  -1.10%   -0.50%             3.30%   \n",
      "340               -34.00          0.10%   0.50%    1.20%             4.20%   \n",
      "\n",
      "     GDP YOY  Ticker      Open      High       Low     Close   z_score  \n",
      "3     -6.10%  audusd    0.6133    0.6571    0.5979    0.6510 -4.950846  \n",
      "4     -6.10%  audusd    0.6511    0.6684    0.6371    0.6666 -3.801886  \n",
      "52   -12.20%  usdcad    1.3946    1.4174    1.3712    1.3769 -3.320565  \n",
      "97     3.20%  usdcny    6.9366    7.0434    6.9366    6.9906 -3.382671  \n",
      "146   -2.90%  eurusd    1.1003    1.1494    1.0637    1.1029 -3.879518  \n",
      "148  -14.10%  eurusd    1.0956    1.1146    1.0766    1.1098 -3.242932  \n",
      "195   -9.70%  usdjpy  107.5400  109.3900  106.3600  107.1700 -4.640316  \n",
      "196   -9.70%  usdjpy  107.1800  108.0900  105.9800  107.7700 -3.863992  \n",
      "290    0.40%  usdchf    0.9663    0.9905    0.9192    0.9608 -3.609358  \n",
      "291   -7.00%  usdchf    0.9610    0.9804    0.9595    0.9652 -4.572000  \n",
      "340  -21.90%  gbpusd    1.2599    1.2602    1.2075    1.2344 -3.475830  \n"
     ]
    }
   ],
   "source": [
    "# Services PMI\n",
    "cleaned_outliers_df['z_score'] = (cleaned_outliers_df['Services PMI'] - cleaned_outliers_df['Services PMI'].mean()) / cleaned_outliers_df['Services PMI'].std()\n",
    "\n",
    "# Find outliers (threshold: Z-score > 3 or Z-score < -3)\n",
    "outliers = cleaned_outliers_df[(cleaned_outliers_df['z_score'] > 3) | (cleaned_outliers_df['z_score'] < -3)]\n",
    "print(\"Outliers:\")\n",
    "print(outliers) #uncomment to see"
   ]
  },
  {
   "cell_type": "code",
   "execution_count": 46,
   "id": "c66b1579-9b63-4237-adf0-af432803e0ca",
   "metadata": {},
   "outputs": [
    {
     "name": "stdout",
     "output_type": "stream",
     "text": [
      "Original DataFrame's shape:\n",
      "(426, 16)\n",
      "\n",
      "DataFrame after removing outliers shape:\n",
      "(415, 16)\n"
     ]
    }
   ],
   "source": [
    "cleaned_outliers_dff = cleaned_outliers_df.drop(outliers.index)\n",
    "print(\"Original DataFrame's shape:\")\n",
    "print(cleaned_outliers_df.shape)\n",
    "print(\"\\nDataFrame after removing outliers shape:\")\n",
    "print(cleaned_outliers_dff.shape)"
   ]
  },
  {
   "cell_type": "code",
   "execution_count": 48,
   "id": "96b39e5d-97fb-467f-8b2a-e3683e493e14",
   "metadata": {},
   "outputs": [
    {
     "data": {
      "text/html": [
       "<div>\n",
       "<style scoped>\n",
       "    .dataframe tbody tr th:only-of-type {\n",
       "        vertical-align: middle;\n",
       "    }\n",
       "\n",
       "    .dataframe tbody tr th {\n",
       "        vertical-align: top;\n",
       "    }\n",
       "\n",
       "    .dataframe thead th {\n",
       "        text-align: right;\n",
       "    }\n",
       "</style>\n",
       "<table border=\"1\" class=\"dataframe\">\n",
       "  <thead>\n",
       "    <tr style=\"text-align: right;\">\n",
       "      <th></th>\n",
       "      <th>Date</th>\n",
       "      <th>Manufacturing PMI</th>\n",
       "      <th>Services PMI</th>\n",
       "      <th>Consumer Confidence</th>\n",
       "      <th>Open</th>\n",
       "      <th>High</th>\n",
       "      <th>Low</th>\n",
       "      <th>Close</th>\n",
       "      <th>z_score</th>\n",
       "    </tr>\n",
       "  </thead>\n",
       "  <tbody>\n",
       "    <tr>\n",
       "      <th>count</th>\n",
       "      <td>415</td>\n",
       "      <td>415.000000</td>\n",
       "      <td>415.000000</td>\n",
       "      <td>415.000000</td>\n",
       "      <td>415.000000</td>\n",
       "      <td>415.000000</td>\n",
       "      <td>415.000000</td>\n",
       "      <td>415.000000</td>\n",
       "      <td>415.000000</td>\n",
       "    </tr>\n",
       "    <tr>\n",
       "      <th>mean</th>\n",
       "      <td>2022-01-08 11:20:05.783132416</td>\n",
       "      <td>52.272771</td>\n",
       "      <td>52.049759</td>\n",
       "      <td>43.638795</td>\n",
       "      <td>26.428119</td>\n",
       "      <td>26.975902</td>\n",
       "      <td>25.975701</td>\n",
       "      <td>26.517403</td>\n",
       "      <td>0.102988</td>\n",
       "    </tr>\n",
       "    <tr>\n",
       "      <th>min</th>\n",
       "      <td>2020-01-01 00:00:00</td>\n",
       "      <td>38.500000</td>\n",
       "      <td>33.800000</td>\n",
       "      <td>-52.500000</td>\n",
       "      <td>0.559300</td>\n",
       "      <td>0.587400</td>\n",
       "      <td>0.547000</td>\n",
       "      <td>0.559400</td>\n",
       "      <td>-2.730558</td>\n",
       "    </tr>\n",
       "    <tr>\n",
       "      <th>25%</th>\n",
       "      <td>2021-02-01 00:00:00</td>\n",
       "      <td>48.665000</td>\n",
       "      <td>48.840000</td>\n",
       "      <td>-9.650000</td>\n",
       "      <td>0.909300</td>\n",
       "      <td>0.920300</td>\n",
       "      <td>0.889450</td>\n",
       "      <td>0.908600</td>\n",
       "      <td>-0.395375</td>\n",
       "    </tr>\n",
       "    <tr>\n",
       "      <th>50%</th>\n",
       "      <td>2022-01-01 00:00:00</td>\n",
       "      <td>51.400000</td>\n",
       "      <td>52.100000</td>\n",
       "      <td>50.000000</td>\n",
       "      <td>1.262200</td>\n",
       "      <td>1.283800</td>\n",
       "      <td>1.236300</td>\n",
       "      <td>1.261400</td>\n",
       "      <td>0.110788</td>\n",
       "    </tr>\n",
       "    <tr>\n",
       "      <th>75%</th>\n",
       "      <td>2023-01-01 00:00:00</td>\n",
       "      <td>56.100000</td>\n",
       "      <td>55.200000</td>\n",
       "      <td>87.000000</td>\n",
       "      <td>7.093400</td>\n",
       "      <td>7.184150</td>\n",
       "      <td>7.039300</td>\n",
       "      <td>7.104350</td>\n",
       "      <td>0.592109</td>\n",
       "    </tr>\n",
       "    <tr>\n",
       "      <th>max</th>\n",
       "      <td>2023-12-01 00:00:00</td>\n",
       "      <td>68.600000</td>\n",
       "      <td>67.600000</td>\n",
       "      <td>127.000000</td>\n",
       "      <td>151.710000</td>\n",
       "      <td>151.960000</td>\n",
       "      <td>147.380000</td>\n",
       "      <td>151.670000</td>\n",
       "      <td>2.517394</td>\n",
       "    </tr>\n",
       "    <tr>\n",
       "      <th>std</th>\n",
       "      <td>NaN</td>\n",
       "      <td>5.472319</td>\n",
       "      <td>5.016135</td>\n",
       "      <td>51.775012</td>\n",
       "      <td>46.209780</td>\n",
       "      <td>47.226366</td>\n",
       "      <td>45.365177</td>\n",
       "      <td>46.393426</td>\n",
       "      <td>0.778829</td>\n",
       "    </tr>\n",
       "  </tbody>\n",
       "</table>\n",
       "</div>"
      ],
      "text/plain": [
       "                                Date  Manufacturing PMI  Services PMI  \\\n",
       "count                            415         415.000000    415.000000   \n",
       "mean   2022-01-08 11:20:05.783132416          52.272771     52.049759   \n",
       "min              2020-01-01 00:00:00          38.500000     33.800000   \n",
       "25%              2021-02-01 00:00:00          48.665000     48.840000   \n",
       "50%              2022-01-01 00:00:00          51.400000     52.100000   \n",
       "75%              2023-01-01 00:00:00          56.100000     55.200000   \n",
       "max              2023-12-01 00:00:00          68.600000     67.600000   \n",
       "std                              NaN           5.472319      5.016135   \n",
       "\n",
       "       Consumer Confidence        Open        High         Low       Close  \\\n",
       "count           415.000000  415.000000  415.000000  415.000000  415.000000   \n",
       "mean             43.638795   26.428119   26.975902   25.975701   26.517403   \n",
       "min             -52.500000    0.559300    0.587400    0.547000    0.559400   \n",
       "25%              -9.650000    0.909300    0.920300    0.889450    0.908600   \n",
       "50%              50.000000    1.262200    1.283800    1.236300    1.261400   \n",
       "75%              87.000000    7.093400    7.184150    7.039300    7.104350   \n",
       "max             127.000000  151.710000  151.960000  147.380000  151.670000   \n",
       "std              51.775012   46.209780   47.226366   45.365177   46.393426   \n",
       "\n",
       "          z_score  \n",
       "count  415.000000  \n",
       "mean     0.102988  \n",
       "min     -2.730558  \n",
       "25%     -0.395375  \n",
       "50%      0.110788  \n",
       "75%      0.592109  \n",
       "max      2.517394  \n",
       "std      0.778829  "
      ]
     },
     "execution_count": 48,
     "metadata": {},
     "output_type": "execute_result"
    }
   ],
   "source": [
    "cleaned_outliers_dff.describe()"
   ]
  },
  {
   "cell_type": "code",
   "execution_count": 49,
   "id": "dac841f8-5a0d-45b5-bde8-0a9a595dff1b",
   "metadata": {},
   "outputs": [],
   "source": [
    "dff = cleaned_outliers_dff"
   ]
  },
  {
   "cell_type": "code",
   "execution_count": 51,
   "id": "0e6391d7-acb7-4cf8-aa09-8a85855b01b6",
   "metadata": {},
   "outputs": [
    {
     "name": "stdout",
     "output_type": "stream",
     "text": [
      "<class 'pandas.core.frame.DataFrame'>\n",
      "Index: 415 entries, 0 to 431\n",
      "Data columns (total 16 columns):\n",
      " #   Column               Non-Null Count  Dtype         \n",
      "---  ------               --------------  -----         \n",
      " 0   Country              415 non-null    object        \n",
      " 1   Date                 415 non-null    datetime64[ns]\n",
      " 2   Manufacturing PMI    415 non-null    float64       \n",
      " 3   Services PMI         415 non-null    float64       \n",
      " 4   Consumer Confidence  415 non-null    float64       \n",
      " 5   Interest Rates       415 non-null    object        \n",
      " 6   CPI YOY              415 non-null    object        \n",
      " 7   Core CPI             415 non-null    object        \n",
      " 8   Unemployment Rate    415 non-null    object        \n",
      " 9   GDP YOY              415 non-null    object        \n",
      " 10  Ticker               415 non-null    object        \n",
      " 11  Open                 415 non-null    float64       \n",
      " 12  High                 415 non-null    float64       \n",
      " 13  Low                  415 non-null    float64       \n",
      " 14  Close                415 non-null    float64       \n",
      " 15  z_score              415 non-null    float64       \n",
      "dtypes: datetime64[ns](1), float64(8), object(7)\n",
      "memory usage: 55.1+ KB\n"
     ]
    }
   ],
   "source": [
    "dff.info()"
   ]
  },
  {
   "cell_type": "raw",
   "id": "745b3273-044a-4e5e-9e1d-6480e84505d9",
   "metadata": {},
   "source": [
    "# Save the cleaned Data Set\n",
    "dff.to_csv(\"Pandemic Impact Monitor.csv\", index=False)"
   ]
  },
  {
   "cell_type": "markdown",
   "id": "5dd831e6-eb40-4ba2-9c22-e5d735799cbb",
   "metadata": {},
   "source": [
    "## **Generate Report for the cleaned data set using ydata-profiling:**"
   ]
  },
  {
   "cell_type": "code",
   "execution_count": 54,
   "id": "15320640-3f0c-4c9e-bdd3-97f5cec46c7a",
   "metadata": {},
   "outputs": [
    {
     "data": {
      "application/vnd.jupyter.widget-view+json": {
       "model_id": "2aa9c8b0a12749a380004b086934a513",
       "version_major": 2,
       "version_minor": 0
      },
      "text/plain": [
       "Summarize dataset:   0%|          | 0/5 [00:00<?, ?it/s]"
      ]
     },
     "metadata": {},
     "output_type": "display_data"
    },
    {
     "name": "stderr",
     "output_type": "stream",
     "text": [
      "C:\\Users\\oo\\AppData\\Local\\Programs\\Python\\Python311\\Lib\\site-packages\\ydata_profiling\\model\\correlations.py:66: UserWarning: There was an attempt to calculate the auto correlation, but this failed.\n",
      "To hide this warning, disable the calculation\n",
      "(using `df.profile_report(correlations={\"auto\": {\"calculate\": False}})`\n",
      "If this is problematic for your use case, please report this as an issue:\n",
      "https://github.com/ydataai/ydata-profiling/issues\n",
      "(include the error message: 'could not convert string to float: 'australia'')\n",
      "  warnings.warn(\n"
     ]
    },
    {
     "data": {
      "application/vnd.jupyter.widget-view+json": {
       "model_id": "56b35d7581b648ad93db83fa3ada53da",
       "version_major": 2,
       "version_minor": 0
      },
      "text/plain": [
       "Generate report structure:   0%|          | 0/1 [00:00<?, ?it/s]"
      ]
     },
     "metadata": {},
     "output_type": "display_data"
    },
    {
     "data": {
      "application/vnd.jupyter.widget-view+json": {
       "model_id": "c154ab9283b74f35a130f6f15883c81b",
       "version_major": 2,
       "version_minor": 0
      },
      "text/plain": [
       "Render HTML:   0%|          | 0/1 [00:00<?, ?it/s]"
      ]
     },
     "metadata": {},
     "output_type": "display_data"
    },
    {
     "data": {
      "application/vnd.jupyter.widget-view+json": {
       "model_id": "515881b07e184e5181310859a73e00d6",
       "version_major": 2,
       "version_minor": 0
      },
      "text/plain": [
       "Export report to file:   0%|          | 0/1 [00:00<?, ?it/s]"
      ]
     },
     "metadata": {},
     "output_type": "display_data"
    }
   ],
   "source": [
    "from ydata_profiling import ProfileReport\n",
    "from ydata_profiling.utils.cache import cache_file\n",
    "report=ProfileReport(dff,title=\"Pandemic Impact Monitor\", explorative=True)\n",
    "report.to_file(\"pandemic_impact_exploring.html\")"
   ]
  },
  {
   "cell_type": "markdown",
   "id": "ee3680c0-d805-41e4-a276-095ba4ad314f",
   "metadata": {},
   "source": [
    "## **By: [Abdessamad Touzani](https://www.linkedin.com/in/abdessamadtouzani/)**"
   ]
  }
 ],
 "metadata": {
  "kernelspec": {
   "display_name": "Python 3 (ipykernel)",
   "language": "python",
   "name": "python3"
  },
  "language_info": {
   "codemirror_mode": {
    "name": "ipython",
    "version": 3
   },
   "file_extension": ".py",
   "mimetype": "text/x-python",
   "name": "python",
   "nbconvert_exporter": "python",
   "pygments_lexer": "ipython3",
   "version": "3.11.5"
  }
 },
 "nbformat": 4,
 "nbformat_minor": 5
}
